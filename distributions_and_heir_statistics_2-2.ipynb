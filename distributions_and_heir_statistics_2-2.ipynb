{
  "cells": [
    {
      "cell_type": "markdown",
      "id": "921e0550",
      "metadata": {
        "id": "921e0550"
      },
      "source": [
        "# Распределения и их статистики. "
      ]
    },
    {
      "cell_type": "markdown",
      "id": "ffd648a7",
      "metadata": {
        "id": "ffd648a7"
      },
      "source": [
        "\n",
        "<a id='В начало'> </a>\n",
        "## Содержание ноутбука:\n",
        "\n",
        "1. <a href='#Блок 1.Теоретическое введение'> Блок 1. Теоретическое введение </a> \n",
        "2. <a href='#Блок 2.Основные статистики распределений'> Блок 2. Основные статистики распределений </a> \n",
        "    - <a href='#Нормальное распределение'> Нормальное распределение </a> \n",
        "    - <a href='#Распределение со скосом слева'> Распределение со скосом слева </a> \n",
        "    - <a href='#Распределение со скосом справа'> Распределение со скосом справа </a> \n",
        "    - <a href='#Мультимодальное распределение'> Мультимодальное распределение </a> \n",
        "    \n",
        "3. <a href='#Блок 3.Общий вывод'> Блок 3. Общий вывод </a> \n",
        "\n"
      ]
    },
    {
      "cell_type": "code",
      "execution_count": null,
      "id": "922129a2",
      "metadata": {
        "id": "922129a2"
      },
      "outputs": [],
      "source": [
        "import numpy as np\n",
        "import pandas as pd\n",
        "import matplotlib.pyplot as plt\n",
        "import seaborn as sns\n",
        "from sklearn.utils import resample\n",
        "\n",
        "\n",
        "from scipy.stats import kurtosis, skew\n",
        "\n",
        "from sympy import Symbol, pprint\n",
        "\n",
        "plt.rcParams[\"figure.figsize\"] = (15, 7)"
      ]
    },
    {
      "cell_type": "markdown",
      "id": "8cd05534",
      "metadata": {
        "id": "8cd05534"
      },
      "source": [
        "<a id='Блок 1.Теоретическое введение'> </a>\n",
        "## Теоретическое введение\n",
        "<a href='#В начало'> В начало </a> \n",
        "\n",
        "В этом документе разобраны основные статистики 3х видов распределений: нормального, скошенных вправо и влево и мультимодального. \n",
        "\n",
        "Для них разобраны и рассмотрены следующие понятия: \n",
        "\n",
        "- мода\n",
        "- минимум\n",
        "- максимум\n",
        "- перцентили\n",
        "- дисперсия\n",
        "- стандартное отклонение\n",
        "- эксцесс распределения\n",
        "- коэффициент ассиметрии\n",
        "\n",
        "Также в документе использовано определение **момент распределения.**"
      ]
    },
    {
      "cell_type": "markdown",
      "id": "d591ffb9",
      "metadata": {
        "id": "d591ffb9"
      },
      "source": [
        "**Мода** — самое частовстречаемое значение в наборе данных. \\\n",
        "**Минимум, максимум** — соответственно минимальные и максимальные значения в наборе данных.  \\\n",
        "**Перцентиль**, $perc$% — квантиль, выраженный в %. Величина $x$, значение которой больше либо равно ей для $perc$% значений. \\\n",
        "**Дисперсия** — мера разброса случайной величины относительно её математического ожидания*. Выражается как сумма квадратов отклонений о среднего значения в наборе, деленная на количество наблюдений. \\\n",
        "$$D = \\frac{\\sum_{i=1}^{n}(X - mean(X))^2}{n}$$ \n",
        "\n",
        "**Стандартное отклонение** $std, \\sigma$ — статистическая мера разброса случайной величины, выражается как корень из дисперсии. \n",
        "\n",
        "$$std = \\sqrt{\\frac{\\sum_{i=1}^{n}(X - mean(X))^2}{n}}$$ \n",
        "\n",
        "\n",
        "**Момент случайной величины** — величина, характеризующая вероятностное распределение. Одна из общих формул:\n",
        "\n",
        "$$M_t = \\frac{1}{n}\\sum_{i=1}^{n}(x_i - A)^t$$, где A — фиксированная величина, а t порядок момента. \n",
        "\n",
        "Различают начальные (при $A=0$), центральные ($A = mean(X)$), условные($A=x_0$) и др. виды моментов. Здесь используются центральные. \n",
        "\n",
        "Заметим, что **центральный момент второго порядка** равен дисперсии, и что **первый центральный момент** равен 0 в силу *нулевого свойства среднего*. \n",
        "\n",
        "**Эксцесс распределения** — величина, характеризующая пологость распределения относительного нормального. \n",
        "$$kurtosis = \\frac{\\frac{1}{n}\\sum_{i=1}^{n}(X - mean(X))^4}{\\sigma^4} - 3$$\n",
        "\n",
        "Для нормального распределения отношение 4го центрального момента к стандартному отклонению в четвертой степени равно 3м. \n",
        "Согласно формуле, для более острого, чем нормальное распределение коэффициент эксцесса будет положителен, для более пологого — отрицателен.  \n",
        "\n",
        "**Коэффициент ассиметрии** — величина, характеризующая симметричность распрделения. \n",
        "$$skewness = \\frac{\\frac{1}{n}\\sum_{i=1}^{n}(X - mean(X))^3}{\\sigma^3}$$\n",
        "\n",
        "Заметка:\n",
        "У скошенно справа распределения коэффициент ассиметрии положителен, у скошенного слева — отрицателен. \n",
        "\n",
        "\n",
        "*1.Математическое ожидание* — понятие ТВ, означающее среднее (по вероятностям возможных значений) значение случайной величины \\\n",
        "*2.Нулевое свойство среднего — сумма всех отклонений от среднего в распрделении равна 0*"
      ]
    },
    {
      "cell_type": "markdown",
      "id": "fe32cccd",
      "metadata": {
        "id": "fe32cccd"
      },
      "source": [
        "<a id='Блок 2.Основные статистики распределений'> </a>\n",
        "## Блок 2.Основные статистики распределений\n",
        "<a href='#В начало'> В начало </a> "
      ]
    },
    {
      "cell_type": "code",
      "execution_count": null,
      "id": "9b95ce7d",
      "metadata": {
        "id": "9b95ce7d"
      },
      "outputs": [],
      "source": [
        "def get_statistics(distribution):\n",
        "    \n",
        "    \"\"\"Функция принимает на вход переменную distribution. \n",
        "    Обязательно, чтобы тип данных переменной был pandas.Series.\n",
        "    \n",
        "    Также обязательно, чтобы были импортированы следующие библиотеки:\n",
        "    pandas как pd\n",
        "    matplotlib.pyplot как plt\n",
        "    seaborn как sns\n",
        "    Функции Symbol, pprint из Sympy\n",
        "    Функции skew, kurtosis из scipy.stats\n",
        "    \"\"\"\n",
        "    \n",
        "    assert(type(distribution) == pd.core.series.Series), 'Приведите переменную к типу pd.Series'\n",
        "    \n",
        "    for i in [pd, plt, sns, pprint, Symbol, skew, kurtosis]:\n",
        "        assert(i)\n",
        "    \n",
        "\n",
        "    print('Минимум, Максимум, Перцентили\\n',  distribution.describe())\n",
        "    print('\\n')\n",
        "    \n",
        "    \n",
        "    plot = sns.histplot(distribution, bins=50)\n",
        "    plot.axvline(distribution.mean(), color='green', label='mean', markersize=0.9)\n",
        "    plot.axvline(distribution.median(), color='orange', label='median', markersize=0.9)\n",
        "    plot.legend()\n",
        "    plt.show()\n",
        "    \n",
        "    print('Коэффициент эксцесса:')\n",
        "    pprint(Symbol('(X - mean(X))^4')/ Symbol('sigma^4') - 3)\n",
        "    print(kurtosis(distribution))\n",
        "    \n",
        "    print('\\n')\n",
        "    \n",
        "    print('Коэффициент ассиметрии:')\n",
        "    pprint(Symbol('(X - mean(X))^3')/ Symbol('sigma^3'))\n",
        "    print(skew(distribution))\n",
        "    \n",
        "    print('\\n')\n",
        "    print('Свойство среднего:', round(sum([i - distribution.mean() for i in distribution]), 1))\n",
        "\n",
        "    \n",
        "    \n",
        "def check_kurtosis(distribution):\n",
        "    \n",
        "    \"\"\"Функция принимает на вход переменную distribution. \n",
        "    Обязательно, чтобы тип данных переменной был pandas.Series\n",
        "    \n",
        "     Также обязательно, чтобы был импортирован следующая функция:\n",
        "     kurtosis из scipy.stats\n",
        "    \n",
        "    \"\"\"\n",
        "    \n",
        "    assert(type(distribution) == pd.core.series.Series), 'Приведите переменную к типу pd.Series'\n",
        "    assert(kurtosis), 'Импортируйте функцию kurtosis из scipy.stats: from scipy.stats import kurtosis'\n",
        "    \n",
        "    central_moment = sum((normal_distr -normal_distr.mean())**4)/len(normal_distr)\n",
        "    std = distribution.std()**4\n",
        "    \n",
        "    kurt_frac = central_moment/std\n",
        "    kurt = kurtosis(distribution)\n",
        "    \n",
        "    print('Значение центрального момента 4го порядка:', central_moment)\n",
        "    print('Отношение центрального момента 4го порядка к стандартному отклонению в 4й степени', kurt_frac)\n",
        "    print('Коэффициент эксцесса', kurt)"
      ]
    },
    {
      "cell_type": "markdown",
      "id": "1e6d610d",
      "metadata": {
        "id": "1e6d610d"
      },
      "source": [
        "<a id='Нормальное распределение'> </a>\n",
        "\n",
        "## Нормальное распределение\n",
        "\n",
        "<a id='В начало'> </a>"
      ]
    },
    {
      "cell_type": "code",
      "execution_count": null,
      "id": "7429cedd",
      "metadata": {
        "id": "7429cedd"
      },
      "outputs": [],
      "source": [
        "np.random.seed(7)\n",
        "normal_distr = pd.Series(np.random.normal(size=1000))\n",
        "\n",
        "get_statistics(normal_distr)"
      ]
    },
    {
      "cell_type": "markdown",
      "id": "67a61661",
      "metadata": {
        "id": "67a61661"
      },
      "source": [
        "1. Медиана и среднее практически равны. \n",
        "2. Ассиметрия и эксцесс близки к 0 (у канонического нормального распределения они нулю равны. \n",
        "3. Отношение четвертого центрального момента к стандартному отклонению в 4й степени приближенно равно 3м. Проверим это также вручную. \n"
      ]
    },
    {
      "cell_type": "code",
      "execution_count": null,
      "id": "4955c766",
      "metadata": {
        "id": "4955c766"
      },
      "outputs": [],
      "source": [
        "check_kurtosis(normal_distr)"
      ]
    },
    {
      "cell_type": "markdown",
      "id": "a1e9990d",
      "metadata": {
        "id": "a1e9990d"
      },
      "source": [
        "<a id='Распределение со скосом слева'> </a>\n",
        "## Распределение со скосом слева\n",
        "\n",
        "<a id='В начало'> </a>"
      ]
    },
    {
      "cell_type": "code",
      "execution_count": null,
      "id": "04d35680",
      "metadata": {
        "id": "04d35680"
      },
      "outputs": [],
      "source": [
        "left_skewed_distribution = pd.Series(resample(sorted(normal_distr)[:500], replace=True, random_state=7, n_samples=1000))\n",
        "\n",
        "get_statistics(left_skewed_distribution)"
      ]
    },
    {
      "cell_type": "markdown",
      "id": "a7e26d19",
      "metadata": {
        "id": "a7e26d19"
      },
      "source": [
        "Для распределения со скосом слева:\n",
        "\n",
        "1. Коэффициент ассиметрии отрицателен\n",
        "2. Медиана больше среднего. "
      ]
    },
    {
      "cell_type": "markdown",
      "id": "98a5ca14",
      "metadata": {
        "id": "98a5ca14"
      },
      "source": [
        "<a id='Распределение со скосом справа'> </a>\n",
        "## Распределение со скосом справа\n",
        "\n",
        "<a id='В начало'> </a>"
      ]
    },
    {
      "cell_type": "code",
      "execution_count": null,
      "id": "9847b31d",
      "metadata": {
        "id": "9847b31d"
      },
      "outputs": [],
      "source": [
        "right_skewed_distribution = pd.Series(resample(sorted(normal_distr)[500:], replace=True, random_state=7, n_samples=1000))\n",
        "\n",
        "get_statistics(right_skewed_distribution)"
      ]
    },
    {
      "cell_type": "markdown",
      "id": "bfc45aaf",
      "metadata": {
        "id": "bfc45aaf"
      },
      "source": [
        "Для распределения со скосом справа:\n",
        "\n",
        "1. Медиана меньше среднего \n",
        "2. Коэффициент ассиметрии положителен"
      ]
    },
    {
      "cell_type": "markdown",
      "id": "d047f22b",
      "metadata": {
        "id": "d047f22b"
      },
      "source": [
        "<a id='Мультимодальное распределение'> </a>\n",
        "## Мультимодальное распределение\n",
        "\n",
        "<a id='В начало'> </a>"
      ]
    },
    {
      "cell_type": "code",
      "execution_count": null,
      "id": "e1d972c1",
      "metadata": {
        "id": "e1d972c1"
      },
      "outputs": [],
      "source": [
        "np.random.seed(7)\n",
        "\n",
        "normal_distr1 = np.random.normal(size=1000) \n",
        "normal_distr2 = np.random.normal(size=1000) - 4.02\n",
        "normal_distr3 = np.random.normal(size=1000) + 4.01\n",
        "\n",
        "concatenated_examples = np.concatenate([normal_distr1, normal_distr2])\n",
        "concatenated_examples = np.concatenate([concatenated_examples, normal_distr3])\n",
        "\n",
        "multinomial = pd.Series(resample(concatenated_examples, n_samples=1000, random_state=7, replace=True))\n",
        "\n",
        "get_statistics(multinomial)"
      ]
    },
    {
      "cell_type": "markdown",
      "id": "b4844255",
      "metadata": {
        "id": "b4844255"
      },
      "source": [
        "Для мультимодального распределения:\n",
        "    \n",
        "1. Только аналитическое рассмотрение могло дать ошибочное прдеположение о том, что это практически нормальное распределение (низкая ассиметрия), более пологое (эксцесс меньше 0), чем каноническое. "
      ]
    },
    {
      "cell_type": "markdown",
      "id": "2c321af0",
      "metadata": {
        "id": "2c321af0"
      },
      "source": [
        "**Получение мод распределения.**"
      ]
    },
    {
      "cell_type": "code",
      "execution_count": null,
      "id": "93bcdffa",
      "metadata": {
        "id": "93bcdffa"
      },
      "outputs": [],
      "source": [
        "#Получение мод при помощи pd.Series().mode()\n",
        "print('Моды:')\n",
        "multinomial.mode()"
      ]
    },
    {
      "cell_type": "markdown",
      "id": "08d97ce0",
      "metadata": {
        "id": "08d97ce0"
      },
      "source": [
        "Визуально видны три горба, но пандас отдает только две моды. Это связано с тем, что пандас выдает только те значения, которых наибольшее количество. Если количество наблюдений с таким зачением хотя-бы на единицу меньше, то пандас уже не говорит об этом. \n",
        "\n",
        "В таком случае более валидным оказывается метод `pd.Series().value_counts()`. Поскольку значения данных представляют собой тип float, для большей информативности уточним их до целого числа (но это только ради примера)"
      ]
    },
    {
      "cell_type": "code",
      "execution_count": null,
      "id": "13a35004",
      "metadata": {
        "id": "13a35004"
      },
      "outputs": [],
      "source": [
        "#Получение мод при помощи pd.Series().value_counts()\n",
        "\n",
        "round(multinomial).value_counts().head(5)"
      ]
    },
    {
      "cell_type": "code",
      "execution_count": null,
      "id": "bdcceda6",
      "metadata": {
        "id": "bdcceda6"
      },
      "outputs": [],
      "source": [
        "#Проверим то же самое с другим вариантом (pd.Series.mode())\n",
        "\n",
        "round(multinomial).mode()"
      ]
    },
    {
      "cell_type": "markdown",
      "id": "678374b0",
      "metadata": {
        "id": "678374b0"
      },
      "source": [
        "Видим, что метод value_counts() более информативен, как и визуальное восприятие. "
      ]
    },
    {
      "cell_type": "markdown",
      "id": "fe1254d0",
      "metadata": {
        "id": "fe1254d0"
      },
      "source": [
        "<a id='Блок 3.Общий вывод'> </a>\n",
        "\n",
        "## Блок 3. Общий вывод\n",
        "\n",
        "<a id='В начало'> </a>\n",
        "Таким образом, базовое рассмотрение данных должно содержать:\n",
        "\n",
        "- визуализацию (по возможности)\n",
        "- моды\n",
        "- минимум\n",
        "- максимум\n",
        "- перцентили\n",
        "- дисперсию\n",
        "- стандартное отклонение\n",
        "- эксцесс распределения\n",
        "- коэффициент ассиметрии\n",
        "\n",
        "\n",
        "\n",
        "**Всех благ=)**\n",
        "\n",
        "Мой блог в телеграмм https://t.me/jdata_blog \\\n",
        "В инстаграмм @sabrina.sadiekh"
      ]
    }
  ],
  "metadata": {
    "kernelspec": {
      "display_name": "Python 3 (ipykernel)",
      "language": "python",
      "name": "python3"
    },
    "language_info": {
      "codemirror_mode": {
        "name": "ipython",
        "version": 3
      },
      "file_extension": ".py",
      "mimetype": "text/x-python",
      "name": "python",
      "nbconvert_exporter": "python",
      "pygments_lexer": "ipython3",
      "version": "3.9.7"
    },
    "colab": {
      "provenance": []
    }
  },
  "nbformat": 4,
  "nbformat_minor": 5
}